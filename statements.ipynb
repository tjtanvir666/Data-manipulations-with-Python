{
 "cells": [
  {
   "cell_type": "markdown",
   "metadata": {},
   "source": [
    "******************* if , elif , else *********************"
   ]
  },
  {
   "cell_type": "code",
   "execution_count": 1,
   "metadata": {
    "collapsed": false
   },
   "outputs": [
    {
     "name": "stdout",
     "output_type": "stream",
     "text": [
      "x is true no problem\n"
     ]
    }
   ],
   "source": [
    "x=True\n",
    "if(x):\n",
    "    print(\"x is true no problem\")\n",
    "elif(x==False):\n",
    "    print(\"there is problem\")\n",
    "else:\n",
    "    print(\"you suck\")\n"
   ]
  },
  {
   "cell_type": "code",
   "execution_count": 2,
   "metadata": {
    "collapsed": false
   },
   "outputs": [
    {
     "name": "stdout",
     "output_type": "stream",
     "text": [
      "logged in successfully\n"
     ]
    }
   ],
   "source": [
    "userName = \"Tanvir\"\n",
    "password = 1234\n",
    "if (userName == \"Tanvir\" and password == 1234):\n",
    "    print(\"logged in successfully\")\n",
    "else:\n",
    "    print(\"username and password error\")"
   ]
  },
  {
   "cell_type": "markdown",
   "metadata": {},
   "source": [
    "************************ for loop ***************************"
   ]
  },
  {
   "cell_type": "code",
   "execution_count": 12,
   "metadata": {
    "collapsed": false,
    "scrolled": true
   },
   "outputs": [
    {
     "name": "stdout",
     "output_type": "stream",
     "text": [
      "1\n",
      "2\n",
      "3\n",
      "4\n",
      "5\n"
     ]
    }
   ],
   "source": [
    "l = [1,2,3,4,5]\n",
    "numb = 1\n",
    "for numb in l:\n",
    "    print (numb)\n"
   ]
  },
  {
   "cell_type": "code",
   "execution_count": 18,
   "metadata": {
    "collapsed": false
   },
   "outputs": [
    {
     "name": "stdout",
     "output_type": "stream",
     "text": [
      "odd: 1\n",
      "even: 2\n",
      "odd: 3\n",
      "even: 4\n",
      "odd: 5\n"
     ]
    }
   ],
   "source": [
    "for num in l:\n",
    "    if(num%2 == 0):\n",
    "        print(\"even:\",num)\n",
    "    else:\n",
    "        print(\"odd:\",num)"
   ]
  },
  {
   "cell_type": "code",
   "execution_count": 24,
   "metadata": {
    "collapsed": false
   },
   "outputs": [
    {
     "name": "stdout",
     "output_type": "stream",
     "text": [
      "t\n",
      "h\n",
      "e\n",
      " \n",
      "q\n",
      "u\n",
      "i\n",
      "c\n",
      "k\n",
      " \n"
     ]
    }
   ],
   "source": [
    "s = \"the quick \"\n",
    "for letters in s:\n",
    "    print(letters)"
   ]
  },
  {
   "cell_type": "code",
   "execution_count": 33,
   "metadata": {
    "collapsed": false,
    "scrolled": false
   },
   "outputs": [
    {
     "name": "stdout",
     "output_type": "stream",
     "text": [
      "(1, 2)\n",
      "('big', 'fat')\n",
      "(4, 5)\n",
      "\n",
      "this is the unpacking\n",
      "\n",
      "1\n",
      "big\n",
      "4\n"
     ]
    }
   ],
   "source": [
    "############### Tuple unpacking (itteration)##############\n",
    "l = [(1,2), ('big','fat'), (4,5)]\n",
    "\n",
    "for tup in l:\n",
    "    print(tup)\n",
    "    \n",
    "print(\"\\nthis is the unpacking\\n\")\n",
    "\n",
    "for (t1,t2) in l:    ##match up the items exactly like its written in the lsit\n",
    "    print(t1)"
   ]
  },
  {
   "cell_type": "code",
   "execution_count": 45,
   "metadata": {
    "collapsed": false,
    "scrolled": true
   },
   "outputs": [
    {
     "name": "stdout",
     "output_type": "stream",
     "text": [
      "book\n",
      "{'writer_1': {'name': 'Rabindranath', 'address': 'Kolkata'}, 'writer_2': {'name': 'Kazi Nazrul', 'address': 'Bnagladesh'}}\n",
      "{'name': 'Kazi Nazrul', 'address': 'Bnagladesh'}\n"
     ]
    }
   ],
   "source": [
    "dict = {'book':\n",
    "               {'writer_1':{\n",
    "                    'name':'Rabindranath',\n",
    "                    'address':'Kolkata'   \n",
    "                 },\n",
    "                'writer_2':{\n",
    "                    'name':'Kazi Nazrul',\n",
    "                    'address':'Bnagladesh'\n",
    "                 }\n",
    "              }\n",
    "          }\n",
    "for k,v in dict.items():\n",
    "    print(k)\n",
    "    print(v)\n",
    "    print(v['writer_2'])"
   ]
  },
  {
   "cell_type": "code",
   "execution_count": 47,
   "metadata": {
    "collapsed": false,
    "scrolled": false
   },
   "outputs": [
    {
     "ename": "SyntaxError",
     "evalue": "can't assign to comparison (<ipython-input-47-bc9fb76ee638>, line 3)",
     "output_type": "error",
     "traceback": [
      "\u001b[0;36m  File \u001b[0;32m\"<ipython-input-47-bc9fb76ee638>\"\u001b[0;36m, line \u001b[0;32m3\u001b[0m\n\u001b[0;31m    for (y<10) in y:\u001b[0m\n\u001b[0m       ^\u001b[0m\n\u001b[0;31mSyntaxError\u001b[0m\u001b[0;31m:\u001b[0m can't assign to comparison\n"
     ]
    }
   ],
   "source": [
    "x=10\n",
    "    "
   ]
  },
  {
   "cell_type": "markdown",
   "metadata": {},
   "source": [
    "******************************** While loop ************************"
   ]
  },
  {
   "cell_type": "code",
   "execution_count": 53,
   "metadata": {
    "collapsed": false
   },
   "outputs": [
    {
     "name": "stdout",
     "output_type": "stream",
     "text": [
      "thae value of x is:  0\n",
      "thae value of x is:  1\n",
      "thae value of x is:  2\n",
      "thae value of x is:  3\n",
      "thae value of x is:  4\n",
      "thae value of x is:  5\n",
      "thae value of x is:  6\n",
      "thae value of x is:  7\n",
      "thae value of x is:  8\n",
      "thae value of x is:  9\n"
     ]
    }
   ],
   "source": [
    "x=0\n",
    "while x<10:\n",
    "    print(\"thae value of x is: \",x)\n",
    "    x+=1"
   ]
  },
  {
   "cell_type": "code",
   "execution_count": 5,
   "metadata": {
    "collapsed": false
   },
   "outputs": [
    {
     "name": "stdout",
     "output_type": "stream",
     "text": [
      "continuing...\n"
     ]
    }
   ],
   "source": [
    "y = 0\n",
    "\n",
    "while y<10:\n",
    "    if(y==3):\n",
    "        print(\"y is 3\")\n",
    "        continue\n",
    "    else:\n",
    "        print(\"continuing...\")\n",
    "        break\n",
    "    y+=1    "
   ]
  },
  {
   "cell_type": "code",
   "execution_count": 2,
   "metadata": {
    "collapsed": false
   },
   "outputs": [
    {
     "name": "stdout",
     "output_type": "stream",
     "text": [
      "I am a dumb fuck\n",
      "I am a dumb fuck\n",
      "I am a dumb fuck\n",
      "I am a dumb fuck\n",
      "I am a dumb fuck\n",
      "I am a dumb fuck\n",
      "I am a dumb fuck\n",
      "I am a dumb fuck\n",
      "I am a dumb fuck\n",
      "I am a dumb fuck\n"
     ]
    }
   ],
   "source": [
    "x=0\n",
    "while x<10:\n",
    "    print(\"I am a dumb fuck\")\n",
    "    x+=1\n"
   ]
  },
  {
   "cell_type": "markdown",
   "metadata": {},
   "source": [
    "************************* Range *****************************"
   ]
  },
  {
   "cell_type": "code",
   "execution_count": 11,
   "metadata": {
    "collapsed": false,
    "scrolled": true
   },
   "outputs": [
    {
     "name": "stdout",
     "output_type": "stream",
     "text": [
      "1\n",
      "2\n",
      "3\n",
      "4\n",
      "5\n",
      "6\n",
      "7\n",
      "8\n",
      "9\n"
     ]
    }
   ],
   "source": [
    "for numb in range(1,10,):\n",
    "    print(numb)\n"
   ]
  },
  {
   "cell_type": "code",
   "execution_count": 10,
   "metadata": {
    "collapsed": false
   },
   "outputs": [
    {
     "name": "stdout",
     "output_type": "stream",
     "text": [
      "2\n",
      "5\n",
      "8\n",
      "11\n",
      "14\n",
      "17\n"
     ]
    }
   ],
   "source": [
    "start = 2\n",
    "stop = 20\n",
    "step = 3\n",
    "\n",
    "for numb in range(start,stop,step):\n",
    "    print(numb)"
   ]
  },
  {
   "cell_type": "code",
   "execution_count": 12,
   "metadata": {
    "collapsed": false,
    "scrolled": true
   },
   "outputs": [
    {
     "name": "stdout",
     "output_type": "stream",
     "text": [
      "1\n",
      "51\n",
      "101\n",
      "151\n",
      "201\n",
      "251\n",
      "301\n",
      "351\n",
      "401\n",
      "451\n",
      "501\n",
      "551\n",
      "601\n",
      "651\n",
      "701\n",
      "751\n",
      "801\n",
      "851\n",
      "901\n",
      "951\n"
     ]
    }
   ],
   "source": [
    "x = range(1,1000, 50)  ##storing a range\n",
    "\n",
    "for numb in x:\n",
    "    print (numb)"
   ]
  },
  {
   "cell_type": "markdown",
   "metadata": {},
   "source": [
    "******************List Comprehension**************************"
   ]
  },
  {
   "cell_type": "code",
   "execution_count": 14,
   "metadata": {
    "collapsed": false
   },
   "outputs": [
    {
     "data": {
      "text/plain": [
       "['w', 'o', 'r', 'd']"
      ]
     },
     "execution_count": 14,
     "metadata": {},
     "output_type": "execute_result"
    }
   ],
   "source": [
    "l = []    ##normal way\n",
    "for letter in \"word\":\n",
    "    l.append(letter)\n",
    "print[l]    "
   ]
  },
  {
   "cell_type": "code",
   "execution_count": 16,
   "metadata": {
    "collapsed": false
   },
   "outputs": [
    {
     "name": "stdout",
     "output_type": "stream",
     "text": [
      "['w', 'o', 'r', 'd']\n"
     ]
    }
   ],
   "source": [
    "#### list comprehension\n",
    "list = [letter for letter in \"word\"]\n",
    "print(list)"
   ]
  },
  {
   "cell_type": "code",
   "execution_count": 19,
   "metadata": {
    "collapsed": false
   },
   "outputs": [
    {
     "name": "stdout",
     "output_type": "stream",
     "text": [
      "[0, 1, 4, 9, 16, 25, 36, 49, 64, 81]\n"
     ]
    }
   ],
   "source": [
    "###list comprehension: squares of numbers\n",
    "sqr = [x**2 for x in range(10)]\n",
    "print(sqr)\n"
   ]
  },
  {
   "cell_type": "code",
   "execution_count": 21,
   "metadata": {
    "collapsed": false
   },
   "outputs": [
    {
     "name": "stdout",
     "output_type": "stream",
     "text": [
      "[0, 2, 4, 6, 8, 10, 12, 14, 16, 18]\n"
     ]
    }
   ],
   "source": [
    "##checking even numbers with for loop and putting it in the list\n",
    "l = []\n",
    "for numb in range(20):\n",
    "    if(numb % 2 == 0):\n",
    "        l.append(numb)\n",
    "print(l)"
   ]
  },
  {
   "cell_type": "code",
   "execution_count": 23,
   "metadata": {
    "collapsed": false
   },
   "outputs": [
    {
     "name": "stdout",
     "output_type": "stream",
     "text": [
      "[0, 2, 4, 6, 8, 10, 12, 14, 16, 18]\n"
     ]
    }
   ],
   "source": [
    "## checking even numbers in the list comprehension\n",
    "list = [numb for numb in range(20) if numb%2 == 0]\n",
    "print(list)"
   ]
  },
  {
   "cell_type": "code",
   "execution_count": 30,
   "metadata": {
    "collapsed": false
   },
   "outputs": [
    {
     "name": "stdout",
     "output_type": "stream",
     "text": [
      "[37.4, 42.08, 42.962, 39.2, 47.75]\n",
      "[101.39999999999999, 189.27999999999997, 205.84199999999998, 135.2, 295.75]\n"
     ]
    }
   ],
   "source": [
    "### conversting celcius to farenheit\n",
    "celcius = [3, 5.6, 6.09, 4, 8.75]\n",
    "\n",
    "farenheit = [temp * 9/5 + 32 for temp in celcius]  \n",
    "farenheit2 = [(temp * (9/5 + 32)) for temp in celcius]\n",
    "print(farenheit)\n",
    "print(farenheit2)"
   ]
  },
  {
   "cell_type": "code",
   "execution_count": 32,
   "metadata": {
    "collapsed": false
   },
   "outputs": [
    {
     "name": "stdout",
     "output_type": "stream",
     "text": [
      "[0, 1, 16, 81, 256, 625, 1296, 2401, 4096, 6561, 10000, 14641, 20736, 28561, 38416, 50625, 65536, 83521, 104976, 130321]\n"
     ]
    }
   ],
   "source": [
    "##nested list comprehension\n",
    "list = [x**2 for x in [x**2 for x in range(20)]]\n",
    "print(list)"
   ]
  }
 ],
 "metadata": {
  "kernelspec": {
   "display_name": "Python 3",
   "language": "python",
   "name": "python3"
  },
  "language_info": {
   "codemirror_mode": {
    "name": "ipython",
    "version": 3
   },
   "file_extension": ".py",
   "mimetype": "text/x-python",
   "name": "python",
   "nbconvert_exporter": "python",
   "pygments_lexer": "ipython3",
   "version": "3.6.0"
  }
 },
 "nbformat": 4,
 "nbformat_minor": 2
}
