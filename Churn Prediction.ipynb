{
 "cells": [
  {
   "cell_type": "markdown",
   "metadata": {},
   "source": [
    "**************Importing the libraries***************"
   ]
  },
  {
   "cell_type": "code",
   "execution_count": 2,
   "metadata": {
    "collapsed": true
   },
   "outputs": [],
   "source": [
    "#import libraries\n",
    "import pandas as pd\n",
    "import numpy as np\n",
    "from matplotlib import style\n",
    "%matplotlib inline\n",
    "import matplotlib.pyplot as plt # graphics package\n",
    "import seaborn as sns\n",
    "from IPython.display import display, HTML"
   ]
  },
  {
   "cell_type": "markdown",
   "metadata": {},
   "source": [
    "**************loading the dataset************"
   ]
  },
  {
   "cell_type": "code",
   "execution_count": 4,
   "metadata": {
    "collapsed": false
   },
   "outputs": [
    {
     "name": "stdout",
     "output_type": "stream",
     "text": [
      "<class 'pandas.core.frame.DataFrame'>\n",
      "RangeIndex: 3333 entries, 0 to 3332\n",
      "Data columns (total 21 columns):\n",
      "state                     3333 non-null object\n",
      "account length            3333 non-null int64\n",
      "area code                 3333 non-null int64\n",
      "phone number              3333 non-null object\n",
      "international plan        3333 non-null object\n",
      "voice mail plan           3333 non-null object\n",
      "number vmail messages     3333 non-null int64\n",
      "total day minutes         3333 non-null float64\n",
      "total day calls           3333 non-null int64\n",
      "total day charge          3333 non-null float64\n",
      "total eve minutes         3333 non-null float64\n",
      "total eve calls           3333 non-null int64\n",
      "total eve charge          3333 non-null float64\n",
      "total night minutes       3333 non-null float64\n",
      "total night calls         3333 non-null int64\n",
      "total night charge        3333 non-null float64\n",
      "total intl minutes        3333 non-null float64\n",
      "total intl calls          3333 non-null int64\n",
      "total intl charge         3333 non-null float64\n",
      "customer service calls    3333 non-null int64\n",
      "churn                     3333 non-null bool\n",
      "dtypes: bool(1), float64(8), int64(8), object(4)\n",
      "memory usage: 524.1+ KB\n"
     ]
    }
   ],
   "source": [
    "data = pd.read_csv('E:\\Masters\\Major Project-1_MAN\\Telco- Churn\\dataset\\Big ML Teleco Churn.csv')\n",
    "data.head(3)\n",
    "data.info()"
   ]
  },
  {
   "cell_type": "markdown",
   "metadata": {},
   "source": [
    "***************Data Exploration******************"
   ]
  },
  {
   "cell_type": "code",
   "execution_count": 5,
   "metadata": {
    "collapsed": false
   },
   "outputs": [
    {
     "data": {
      "text/html": [
       "<div>\n",
       "<style>\n",
       "    .dataframe thead tr:only-child th {\n",
       "        text-align: right;\n",
       "    }\n",
       "\n",
       "    .dataframe thead th {\n",
       "        text-align: left;\n",
       "    }\n",
       "\n",
       "    .dataframe tbody tr th {\n",
       "        vertical-align: top;\n",
       "    }\n",
       "</style>\n",
       "<table border=\"1\" class=\"dataframe\">\n",
       "  <thead>\n",
       "    <tr style=\"text-align: right;\">\n",
       "      <th></th>\n",
       "      <th>state</th>\n",
       "      <th>account length</th>\n",
       "      <th>area code</th>\n",
       "      <th>phone number</th>\n",
       "      <th>international plan</th>\n",
       "      <th>voice mail plan</th>\n",
       "      <th>number vmail messages</th>\n",
       "      <th>total day minutes</th>\n",
       "      <th>total day calls</th>\n",
       "      <th>total day charge</th>\n",
       "      <th>...</th>\n",
       "      <th>total eve calls</th>\n",
       "      <th>total eve charge</th>\n",
       "      <th>total night minutes</th>\n",
       "      <th>total night calls</th>\n",
       "      <th>total night charge</th>\n",
       "      <th>total intl minutes</th>\n",
       "      <th>total intl calls</th>\n",
       "      <th>total intl charge</th>\n",
       "      <th>customer service calls</th>\n",
       "      <th>churn</th>\n",
       "    </tr>\n",
       "  </thead>\n",
       "  <tbody>\n",
       "    <tr>\n",
       "      <th>column type</th>\n",
       "      <td>object</td>\n",
       "      <td>int64</td>\n",
       "      <td>int64</td>\n",
       "      <td>object</td>\n",
       "      <td>object</td>\n",
       "      <td>object</td>\n",
       "      <td>int64</td>\n",
       "      <td>float64</td>\n",
       "      <td>int64</td>\n",
       "      <td>float64</td>\n",
       "      <td>...</td>\n",
       "      <td>int64</td>\n",
       "      <td>float64</td>\n",
       "      <td>float64</td>\n",
       "      <td>int64</td>\n",
       "      <td>float64</td>\n",
       "      <td>float64</td>\n",
       "      <td>int64</td>\n",
       "      <td>float64</td>\n",
       "      <td>int64</td>\n",
       "      <td>bool</td>\n",
       "    </tr>\n",
       "    <tr>\n",
       "      <th>null values (nb)</th>\n",
       "      <td>0</td>\n",
       "      <td>0</td>\n",
       "      <td>0</td>\n",
       "      <td>0</td>\n",
       "      <td>0</td>\n",
       "      <td>0</td>\n",
       "      <td>0</td>\n",
       "      <td>0</td>\n",
       "      <td>0</td>\n",
       "      <td>0</td>\n",
       "      <td>...</td>\n",
       "      <td>0</td>\n",
       "      <td>0</td>\n",
       "      <td>0</td>\n",
       "      <td>0</td>\n",
       "      <td>0</td>\n",
       "      <td>0</td>\n",
       "      <td>0</td>\n",
       "      <td>0</td>\n",
       "      <td>0</td>\n",
       "      <td>0</td>\n",
       "    </tr>\n",
       "    <tr>\n",
       "      <th>null values (%)</th>\n",
       "      <td>0</td>\n",
       "      <td>0</td>\n",
       "      <td>0</td>\n",
       "      <td>0</td>\n",
       "      <td>0</td>\n",
       "      <td>0</td>\n",
       "      <td>0</td>\n",
       "      <td>0</td>\n",
       "      <td>0</td>\n",
       "      <td>0</td>\n",
       "      <td>...</td>\n",
       "      <td>0</td>\n",
       "      <td>0</td>\n",
       "      <td>0</td>\n",
       "      <td>0</td>\n",
       "      <td>0</td>\n",
       "      <td>0</td>\n",
       "      <td>0</td>\n",
       "      <td>0</td>\n",
       "      <td>0</td>\n",
       "      <td>0</td>\n",
       "    </tr>\n",
       "  </tbody>\n",
       "</table>\n",
       "<p>3 rows × 21 columns</p>\n",
       "</div>"
      ],
      "text/plain": [
       "                   state account length area code phone number  \\\n",
       "column type       object          int64     int64       object   \n",
       "null values (nb)       0              0         0            0   \n",
       "null values (%)        0              0         0            0   \n",
       "\n",
       "                 international plan voice mail plan number vmail messages  \\\n",
       "column type                  object          object                 int64   \n",
       "null values (nb)                  0               0                     0   \n",
       "null values (%)                   0               0                     0   \n",
       "\n",
       "                 total day minutes total day calls total day charge  ...   \\\n",
       "column type                float64           int64          float64  ...    \n",
       "null values (nb)                 0               0                0  ...    \n",
       "null values (%)                  0               0                0  ...    \n",
       "\n",
       "                 total eve calls total eve charge total night minutes  \\\n",
       "column type                int64          float64             float64   \n",
       "null values (nb)               0                0                   0   \n",
       "null values (%)                0                0                   0   \n",
       "\n",
       "                 total night calls total night charge total intl minutes  \\\n",
       "column type                  int64            float64            float64   \n",
       "null values (nb)                 0                  0                  0   \n",
       "null values (%)                  0                  0                  0   \n",
       "\n",
       "                 total intl calls total intl charge customer service calls  \\\n",
       "column type                 int64           float64                  int64   \n",
       "null values (nb)                0                 0                      0   \n",
       "null values (%)                 0                 0                      0   \n",
       "\n",
       "                 churn  \n",
       "column type       bool  \n",
       "null values (nb)     0  \n",
       "null values (%)      0  \n",
       "\n",
       "[3 rows x 21 columns]"
      ]
     },
     "metadata": {},
     "output_type": "display_data"
    }
   ],
   "source": [
    "#Check missing value/null\n",
    "tab_info=pd.DataFrame(data.dtypes).T.rename(index={0:'column type'})\n",
    "tab_info=tab_info.append(pd.DataFrame(data.isnull().sum()).T.rename(index={0:'null values (nb)'}))\n",
    "tab_info=tab_info.append(pd.DataFrame(data.isnull().sum()/data.shape[0]*100).T.rename(index={0:'null values (%)'}))\n",
    "display(tab_info)"
   ]
  },
  {
   "cell_type": "code",
   "execution_count": 6,
   "metadata": {
    "collapsed": false
   },
   "outputs": [
    {
     "data": {
      "text/plain": [
       "0"
      ]
     },
     "execution_count": 6,
     "metadata": {},
     "output_type": "execute_result"
    }
   ],
   "source": [
    "#Check duplicate instances\n",
    "data.duplicated().sum()"
   ]
  },
  {
   "cell_type": "code",
   "execution_count": 7,
   "metadata": {
    "collapsed": false
   },
   "outputs": [
    {
     "data": {
      "text/html": [
       "<div>\n",
       "<style>\n",
       "    .dataframe thead tr:only-child th {\n",
       "        text-align: right;\n",
       "    }\n",
       "\n",
       "    .dataframe thead th {\n",
       "        text-align: left;\n",
       "    }\n",
       "\n",
       "    .dataframe tbody tr th {\n",
       "        vertical-align: top;\n",
       "    }\n",
       "</style>\n",
       "<table border=\"1\" class=\"dataframe\">\n",
       "  <thead>\n",
       "    <tr style=\"text-align: right;\">\n",
       "      <th></th>\n",
       "      <th>count</th>\n",
       "      <th>mean</th>\n",
       "      <th>std</th>\n",
       "      <th>min</th>\n",
       "      <th>25%</th>\n",
       "      <th>50%</th>\n",
       "      <th>75%</th>\n",
       "      <th>max</th>\n",
       "    </tr>\n",
       "  </thead>\n",
       "  <tbody>\n",
       "    <tr>\n",
       "      <th>account length</th>\n",
       "      <td>3333.0</td>\n",
       "      <td>101.064806</td>\n",
       "      <td>39.822106</td>\n",
       "      <td>1.00</td>\n",
       "      <td>74.00</td>\n",
       "      <td>101.00</td>\n",
       "      <td>127.00</td>\n",
       "      <td>243.00</td>\n",
       "    </tr>\n",
       "    <tr>\n",
       "      <th>area code</th>\n",
       "      <td>3333.0</td>\n",
       "      <td>437.182418</td>\n",
       "      <td>42.371290</td>\n",
       "      <td>408.00</td>\n",
       "      <td>408.00</td>\n",
       "      <td>415.00</td>\n",
       "      <td>510.00</td>\n",
       "      <td>510.00</td>\n",
       "    </tr>\n",
       "    <tr>\n",
       "      <th>number vmail messages</th>\n",
       "      <td>3333.0</td>\n",
       "      <td>8.099010</td>\n",
       "      <td>13.688365</td>\n",
       "      <td>0.00</td>\n",
       "      <td>0.00</td>\n",
       "      <td>0.00</td>\n",
       "      <td>20.00</td>\n",
       "      <td>51.00</td>\n",
       "    </tr>\n",
       "    <tr>\n",
       "      <th>total day minutes</th>\n",
       "      <td>3333.0</td>\n",
       "      <td>179.775098</td>\n",
       "      <td>54.467389</td>\n",
       "      <td>0.00</td>\n",
       "      <td>143.70</td>\n",
       "      <td>179.40</td>\n",
       "      <td>216.40</td>\n",
       "      <td>350.80</td>\n",
       "    </tr>\n",
       "    <tr>\n",
       "      <th>total day calls</th>\n",
       "      <td>3333.0</td>\n",
       "      <td>100.435644</td>\n",
       "      <td>20.069084</td>\n",
       "      <td>0.00</td>\n",
       "      <td>87.00</td>\n",
       "      <td>101.00</td>\n",
       "      <td>114.00</td>\n",
       "      <td>165.00</td>\n",
       "    </tr>\n",
       "    <tr>\n",
       "      <th>total day charge</th>\n",
       "      <td>3333.0</td>\n",
       "      <td>30.562307</td>\n",
       "      <td>9.259435</td>\n",
       "      <td>0.00</td>\n",
       "      <td>24.43</td>\n",
       "      <td>30.50</td>\n",
       "      <td>36.79</td>\n",
       "      <td>59.64</td>\n",
       "    </tr>\n",
       "    <tr>\n",
       "      <th>total eve minutes</th>\n",
       "      <td>3333.0</td>\n",
       "      <td>200.980348</td>\n",
       "      <td>50.713844</td>\n",
       "      <td>0.00</td>\n",
       "      <td>166.60</td>\n",
       "      <td>201.40</td>\n",
       "      <td>235.30</td>\n",
       "      <td>363.70</td>\n",
       "    </tr>\n",
       "    <tr>\n",
       "      <th>total eve calls</th>\n",
       "      <td>3333.0</td>\n",
       "      <td>100.114311</td>\n",
       "      <td>19.922625</td>\n",
       "      <td>0.00</td>\n",
       "      <td>87.00</td>\n",
       "      <td>100.00</td>\n",
       "      <td>114.00</td>\n",
       "      <td>170.00</td>\n",
       "    </tr>\n",
       "    <tr>\n",
       "      <th>total eve charge</th>\n",
       "      <td>3333.0</td>\n",
       "      <td>17.083540</td>\n",
       "      <td>4.310668</td>\n",
       "      <td>0.00</td>\n",
       "      <td>14.16</td>\n",
       "      <td>17.12</td>\n",
       "      <td>20.00</td>\n",
       "      <td>30.91</td>\n",
       "    </tr>\n",
       "    <tr>\n",
       "      <th>total night minutes</th>\n",
       "      <td>3333.0</td>\n",
       "      <td>200.872037</td>\n",
       "      <td>50.573847</td>\n",
       "      <td>23.20</td>\n",
       "      <td>167.00</td>\n",
       "      <td>201.20</td>\n",
       "      <td>235.30</td>\n",
       "      <td>395.00</td>\n",
       "    </tr>\n",
       "    <tr>\n",
       "      <th>total night calls</th>\n",
       "      <td>3333.0</td>\n",
       "      <td>100.107711</td>\n",
       "      <td>19.568609</td>\n",
       "      <td>33.00</td>\n",
       "      <td>87.00</td>\n",
       "      <td>100.00</td>\n",
       "      <td>113.00</td>\n",
       "      <td>175.00</td>\n",
       "    </tr>\n",
       "    <tr>\n",
       "      <th>total night charge</th>\n",
       "      <td>3333.0</td>\n",
       "      <td>9.039325</td>\n",
       "      <td>2.275873</td>\n",
       "      <td>1.04</td>\n",
       "      <td>7.52</td>\n",
       "      <td>9.05</td>\n",
       "      <td>10.59</td>\n",
       "      <td>17.77</td>\n",
       "    </tr>\n",
       "    <tr>\n",
       "      <th>total intl minutes</th>\n",
       "      <td>3333.0</td>\n",
       "      <td>10.237294</td>\n",
       "      <td>2.791840</td>\n",
       "      <td>0.00</td>\n",
       "      <td>8.50</td>\n",
       "      <td>10.30</td>\n",
       "      <td>12.10</td>\n",
       "      <td>20.00</td>\n",
       "    </tr>\n",
       "    <tr>\n",
       "      <th>total intl calls</th>\n",
       "      <td>3333.0</td>\n",
       "      <td>4.479448</td>\n",
       "      <td>2.461214</td>\n",
       "      <td>0.00</td>\n",
       "      <td>3.00</td>\n",
       "      <td>4.00</td>\n",
       "      <td>6.00</td>\n",
       "      <td>20.00</td>\n",
       "    </tr>\n",
       "    <tr>\n",
       "      <th>total intl charge</th>\n",
       "      <td>3333.0</td>\n",
       "      <td>2.764581</td>\n",
       "      <td>0.753773</td>\n",
       "      <td>0.00</td>\n",
       "      <td>2.30</td>\n",
       "      <td>2.78</td>\n",
       "      <td>3.27</td>\n",
       "      <td>5.40</td>\n",
       "    </tr>\n",
       "    <tr>\n",
       "      <th>customer service calls</th>\n",
       "      <td>3333.0</td>\n",
       "      <td>1.562856</td>\n",
       "      <td>1.315491</td>\n",
       "      <td>0.00</td>\n",
       "      <td>1.00</td>\n",
       "      <td>1.00</td>\n",
       "      <td>2.00</td>\n",
       "      <td>9.00</td>\n",
       "    </tr>\n",
       "  </tbody>\n",
       "</table>\n",
       "</div>"
      ],
      "text/plain": [
       "                         count        mean        std     min     25%     50%  \\\n",
       "account length          3333.0  101.064806  39.822106    1.00   74.00  101.00   \n",
       "area code               3333.0  437.182418  42.371290  408.00  408.00  415.00   \n",
       "number vmail messages   3333.0    8.099010  13.688365    0.00    0.00    0.00   \n",
       "total day minutes       3333.0  179.775098  54.467389    0.00  143.70  179.40   \n",
       "total day calls         3333.0  100.435644  20.069084    0.00   87.00  101.00   \n",
       "total day charge        3333.0   30.562307   9.259435    0.00   24.43   30.50   \n",
       "total eve minutes       3333.0  200.980348  50.713844    0.00  166.60  201.40   \n",
       "total eve calls         3333.0  100.114311  19.922625    0.00   87.00  100.00   \n",
       "total eve charge        3333.0   17.083540   4.310668    0.00   14.16   17.12   \n",
       "total night minutes     3333.0  200.872037  50.573847   23.20  167.00  201.20   \n",
       "total night calls       3333.0  100.107711  19.568609   33.00   87.00  100.00   \n",
       "total night charge      3333.0    9.039325   2.275873    1.04    7.52    9.05   \n",
       "total intl minutes      3333.0   10.237294   2.791840    0.00    8.50   10.30   \n",
       "total intl calls        3333.0    4.479448   2.461214    0.00    3.00    4.00   \n",
       "total intl charge       3333.0    2.764581   0.753773    0.00    2.30    2.78   \n",
       "customer service calls  3333.0    1.562856   1.315491    0.00    1.00    1.00   \n",
       "\n",
       "                           75%     max  \n",
       "account length          127.00  243.00  \n",
       "area code               510.00  510.00  \n",
       "number vmail messages    20.00   51.00  \n",
       "total day minutes       216.40  350.80  \n",
       "total day calls         114.00  165.00  \n",
       "total day charge         36.79   59.64  \n",
       "total eve minutes       235.30  363.70  \n",
       "total eve calls         114.00  170.00  \n",
       "total eve charge         20.00   30.91  \n",
       "total night minutes     235.30  395.00  \n",
       "total night calls       113.00  175.00  \n",
       "total night charge       10.59   17.77  \n",
       "total intl minutes       12.10   20.00  \n",
       "total intl calls          6.00   20.00  \n",
       "total intl charge         3.27    5.40  \n",
       "customer service calls    2.00    9.00  "
      ]
     },
     "execution_count": 7,
     "metadata": {},
     "output_type": "execute_result"
    }
   ],
   "source": [
    "#Transposing data\n",
    "data.describe().transpose()\n"
   ]
  },
  {
   "cell_type": "code",
   "execution_count": 8,
   "metadata": {
    "collapsed": false
   },
   "outputs": [
    {
     "data": {
      "text/plain": [
       "False    2850\n",
       "True      483\n",
       "Name: churn, dtype: int64"
      ]
     },
     "execution_count": 8,
     "metadata": {},
     "output_type": "execute_result"
    }
   ],
   "source": [
    "#Exploration of class values\n",
    "pd.value_counts(data[\"churn\"])"
   ]
  },
  {
   "cell_type": "code",
   "execution_count": 8,
   "metadata": {
    "collapsed": false,
    "scrolled": true
   },
   "outputs": [
    {
     "name": "stdout",
     "output_type": "stream",
     "text": [
      "                        account length  area code  number vmail messages  \\\n",
      "account length                1.000000  -0.012463              -0.004628   \n",
      "area code                    -0.012463   1.000000              -0.001994   \n",
      "number vmail messages        -0.004628  -0.001994               1.000000   \n",
      "total day minutes             0.006216  -0.008264               0.000778   \n",
      "total day calls               0.038470  -0.009646              -0.009548   \n",
      "total day charge              0.006214  -0.008264               0.000776   \n",
      "total eve minutes            -0.006757   0.003580               0.017562   \n",
      "total eve calls               0.019260  -0.011886              -0.005864   \n",
      "total eve charge             -0.006745   0.003607               0.017578   \n",
      "total night minutes          -0.008955  -0.005825               0.007681   \n",
      "total night calls            -0.013176   0.016522               0.007123   \n",
      "total night charge           -0.008960  -0.005845               0.007663   \n",
      "total intl minutes            0.009514  -0.018288               0.002856   \n",
      "total intl calls              0.020661  -0.024179               0.013957   \n",
      "total intl charge             0.009546  -0.018395               0.002884   \n",
      "customer service calls       -0.003796   0.027572              -0.013263   \n",
      "churn                         0.016541   0.006174              -0.089728   \n",
      "\n",
      "                        total day minutes  total day calls  total day charge  \\\n",
      "account length                   0.006216         0.038470          0.006214   \n",
      "area code                       -0.008264        -0.009646         -0.008264   \n",
      "number vmail messages            0.000778        -0.009548          0.000776   \n",
      "total day minutes                1.000000         0.006750          1.000000   \n",
      "total day calls                  0.006750         1.000000          0.006753   \n",
      "total day charge                 1.000000         0.006753          1.000000   \n",
      "total eve minutes                0.007043        -0.021451          0.007050   \n",
      "total eve calls                  0.015769         0.006462          0.015769   \n",
      "total eve charge                 0.007029        -0.021449          0.007036   \n",
      "total night minutes              0.004323         0.022938          0.004324   \n",
      "total night calls                0.022972        -0.019557          0.022972   \n",
      "total night charge               0.004300         0.022927          0.004301   \n",
      "total intl minutes              -0.010155         0.021565         -0.010157   \n",
      "total intl calls                 0.008033         0.004574          0.008032   \n",
      "total intl charge               -0.010092         0.021666         -0.010094   \n",
      "customer service calls          -0.013423        -0.018942         -0.013427   \n",
      "churn                            0.205151         0.018459          0.205151   \n",
      "\n",
      "                        total eve minutes  total eve calls  total eve charge  \\\n",
      "account length                  -0.006757         0.019260         -0.006745   \n",
      "area code                        0.003580        -0.011886          0.003607   \n",
      "number vmail messages            0.017562        -0.005864          0.017578   \n",
      "total day minutes                0.007043         0.015769          0.007029   \n",
      "total day calls                 -0.021451         0.006462         -0.021449   \n",
      "total day charge                 0.007050         0.015769          0.007036   \n",
      "total eve minutes                1.000000        -0.011430          1.000000   \n",
      "total eve calls                 -0.011430         1.000000         -0.011423   \n",
      "total eve charge                 1.000000        -0.011423          1.000000   \n",
      "total night minutes             -0.012584        -0.002093         -0.012592   \n",
      "total night calls                0.007586         0.007710          0.007596   \n",
      "total night charge              -0.012593        -0.002056         -0.012601   \n",
      "total intl minutes              -0.011035         0.008703         -0.011043   \n",
      "total intl calls                 0.002541         0.017434          0.002541   \n",
      "total intl charge               -0.011067         0.008674         -0.011074   \n",
      "customer service calls          -0.012985         0.002423         -0.012987   \n",
      "churn                            0.092796         0.009233          0.092786   \n",
      "\n",
      "                        total night minutes  total night calls  \\\n",
      "account length                    -0.008955          -0.013176   \n",
      "area code                         -0.005825           0.016522   \n",
      "number vmail messages              0.007681           0.007123   \n",
      "total day minutes                  0.004323           0.022972   \n",
      "total day calls                    0.022938          -0.019557   \n",
      "total day charge                   0.004324           0.022972   \n",
      "total eve minutes                 -0.012584           0.007586   \n",
      "total eve calls                   -0.002093           0.007710   \n",
      "total eve charge                  -0.012592           0.007596   \n",
      "total night minutes                1.000000           0.011204   \n",
      "total night calls                  0.011204           1.000000   \n",
      "total night charge                 0.999999           0.011188   \n",
      "total intl minutes                -0.015207          -0.013605   \n",
      "total intl calls                  -0.012353           0.000305   \n",
      "total intl charge                 -0.015180          -0.013630   \n",
      "customer service calls            -0.009288          -0.012802   \n",
      "churn                              0.035493           0.006141   \n",
      "\n",
      "                        total night charge  total intl minutes  \\\n",
      "account length                   -0.008960            0.009514   \n",
      "area code                        -0.005845           -0.018288   \n",
      "number vmail messages             0.007663            0.002856   \n",
      "total day minutes                 0.004300           -0.010155   \n",
      "total day calls                   0.022927            0.021565   \n",
      "total day charge                  0.004301           -0.010157   \n",
      "total eve minutes                -0.012593           -0.011035   \n",
      "total eve calls                  -0.002056            0.008703   \n",
      "total eve charge                 -0.012601           -0.011043   \n",
      "total night minutes               0.999999           -0.015207   \n",
      "total night calls                 0.011188           -0.013605   \n",
      "total night charge                1.000000           -0.015214   \n",
      "total intl minutes               -0.015214            1.000000   \n",
      "total intl calls                 -0.012329            0.032304   \n",
      "total intl charge                -0.015186            0.999993   \n",
      "customer service calls           -0.009277           -0.009640   \n",
      "churn                             0.035496            0.068239   \n",
      "\n",
      "                        total intl calls  total intl charge  \\\n",
      "account length                  0.020661           0.009546   \n",
      "area code                      -0.024179          -0.018395   \n",
      "number vmail messages           0.013957           0.002884   \n",
      "total day minutes               0.008033          -0.010092   \n",
      "total day calls                 0.004574           0.021666   \n",
      "total day charge                0.008032          -0.010094   \n",
      "total eve minutes               0.002541          -0.011067   \n",
      "total eve calls                 0.017434           0.008674   \n",
      "total eve charge                0.002541          -0.011074   \n",
      "total night minutes            -0.012353          -0.015180   \n",
      "total night calls               0.000305          -0.013630   \n",
      "total night charge             -0.012329          -0.015186   \n",
      "total intl minutes              0.032304           0.999993   \n",
      "total intl calls                1.000000           0.032372   \n",
      "total intl charge               0.032372           1.000000   \n",
      "customer service calls         -0.017561          -0.009675   \n",
      "churn                          -0.052844           0.068259   \n",
      "\n",
      "                        customer service calls     churn  \n",
      "account length                       -0.003796  0.016541  \n",
      "area code                             0.027572  0.006174  \n",
      "number vmail messages                -0.013263 -0.089728  \n",
      "total day minutes                    -0.013423  0.205151  \n",
      "total day calls                      -0.018942  0.018459  \n",
      "total day charge                     -0.013427  0.205151  \n",
      "total eve minutes                    -0.012985  0.092796  \n",
      "total eve calls                       0.002423  0.009233  \n",
      "total eve charge                     -0.012987  0.092786  \n",
      "total night minutes                  -0.009288  0.035493  \n",
      "total night calls                    -0.012802  0.006141  \n",
      "total night charge                   -0.009277  0.035496  \n",
      "total intl minutes                   -0.009640  0.068239  \n",
      "total intl calls                     -0.017561 -0.052844  \n",
      "total intl charge                    -0.009675  0.068259  \n",
      "customer service calls                1.000000  0.208750  \n",
      "churn                                 0.208750  1.000000  \n"
     ]
    }
   ],
   "source": [
    "#Correlation \n",
    "correlation = data.corr(method='pearson')\n",
    "print(correlation)"
   ]
  },
  {
   "cell_type": "code",
   "execution_count": 9,
   "metadata": {
    "collapsed": false,
    "scrolled": true
   },
   "outputs": [
    {
     "data": {
      "image/png": "[encoded data removed]",
      "text/plain": [
       "<matplotlib.figure.Figure at 0x283a7734278>"
      ]
     },
     "metadata": {},
     "output_type": "display_data"
    },
    {
     "data": {
      "image/png": "[encoded data removed]",
      "text/plain": [
       "<matplotlib.figure.Figure at 0x283a619ea58>"
      ]
     },
     "metadata": {},
     "output_type": "display_data"
    }
   ],
   "source": [
    "#Using the correlation matrix\n",
    "matplotlib.rcParams.update({'font.size': 22})\n",
    "sns.set(font_scale=.7)\n",
    "sns.countplot(x=\"churn\", data=data)\n",
    "plt.figure(figsize=(13,6))\n",
    "sns.heatmap(data.corr(method='pearson'),annot=True)\n",
    "plt.title('Correlation between different attributes')\n",
    "plt.savefig(\"Figure 2_Correlation Attribute.png\") #save figure"
   ]
  },
  {
   "cell_type": "markdown",
   "metadata": {},
   "source": [
    "**********************Data Preprocessing****************************"
   ]
  },
  {
   "cell_type": "code",
   "execution_count": 14,
   "metadata": {
    "collapsed": false,
    "scrolled": false
   },
   "outputs": [
    {
     "name": "stdout",
     "output_type": "stream",
     "text": [
      "(3333, 12)\n",
      "[['no' 'yes' 25 ..., 10.0 3 1]\n",
      " ['no' 'yes' 26 ..., 13.7 3 1]\n",
      " ['no' 'no' 0 ..., 12.2 5 0]\n",
      " ..., \n",
      " ['no' 'no' 0 ..., 14.1 6 2]\n",
      " ['yes' 'no' 0 ..., 5.0 10 2]\n",
      " ['no' 'yes' 25 ..., 13.7 4 0]]\n",
      "[False False False ..., False False False]\n",
      "<class 'pandas.core.frame.DataFrame'>\n",
      "RangeIndex: 3333 entries, 0 to 3332\n",
      "Data columns (total 12 columns):\n",
      "international plan        3333 non-null object\n",
      "voice mail plan           3333 non-null object\n",
      "number vmail messages     3333 non-null int64\n",
      "total day minutes         3333 non-null float64\n",
      "total day calls           3333 non-null int64\n",
      "total eve minutes         3333 non-null float64\n",
      "total eve calls           3333 non-null int64\n",
      "total night minutes       3333 non-null float64\n",
      "total night calls         3333 non-null int64\n",
      "total intl minutes        3333 non-null float64\n",
      "total intl calls          3333 non-null int64\n",
      "customer service calls    3333 non-null int64\n",
      "dtypes: float64(4), int64(6), object(2)\n",
      "memory usage: 312.5+ KB\n",
      "None\n"
     ]
    }
   ],
   "source": [
    "#Feature selection\n",
    "X = data.iloc[:, [4,5,6,7,8,10,11,13,14,16,17,19]].values\n",
    "z= data.iloc[:, [4,5,6,7,8,10,11,13,14,16,17,19]]\n",
    "y = data.iloc[:, 20].values\n",
    "print(X.shape)\n",
    "print(X)\n",
    "print(y)\n",
    "print(z.info())"
   ]
  },
  {
   "cell_type": "markdown",
   "metadata": {},
   "source": [
    "*************Preparing for algorithm******************"
   ]
  },
  {
   "cell_type": "code",
   "execution_count": 11,
   "metadata": {
    "collapsed": false
   },
   "outputs": [],
   "source": [
    "#Encoding the categorical variables\n",
    "from sklearn.preprocessing import LabelEncoder\n",
    "labEnco = LabelEncoder()\n",
    "\n",
    "X[:, 0] = labEnco.fit_transform(X[:, 0])\n",
    "X[:, 1] = labEnco.fit_transform(X[:, 1])\n",
    "\n",
    "y = labEnco.fit_transform(y)\n",
    "\n"
   ]
  },
  {
   "cell_type": "code",
   "execution_count": 12,
   "metadata": {
    "collapsed": false
   },
   "outputs": [
    {
     "name": "stdout",
     "output_type": "stream",
     "text": [
      "[[0 1 25 ..., 10.0 3 1]\n",
      " [0 1 26 ..., 13.7 3 1]\n",
      " [0 0 0 ..., 12.2 5 0]\n",
      " ..., \n",
      " [0 0 0 ..., 14.1 6 2]\n",
      " [1 0 0 ..., 5.0 10 2]\n",
      " [0 1 25 ..., 13.7 4 0]]\n",
      "[0 0 0 ..., 0 0 0]\n",
      "(3333, 12)\n"
     ]
    }
   ],
   "source": [
    "print(X)\n",
    "print(y)\n",
    "print(X.shape)"
   ]
  },
  {
   "cell_type": "code",
   "execution_count": 47,
   "metadata": {
    "collapsed": false,
    "scrolled": true
   },
   "outputs": [
    {
     "name": "stdout",
     "output_type": "stream",
     "text": [
      "[[0 0 0 ..., 0.0 0 4]\n",
      " [1 1 12 ..., 12.3 7 2]\n",
      " [0 0 0 ..., 16.6 4 2]\n",
      " ..., \n",
      " [1 0 0 ..., 11.1 2 1]\n",
      " [0 0 0 ..., 9.9 3 3]\n",
      " [1 0 0 ..., 16.9 2 5]]\n"
     ]
    }
   ],
   "source": [
    "#Training testing split 70:30\n",
    "from sklearn.model_selection import train_test_split\n",
    "X_train, X_test, y_train, y_test = train_test_split(X, y, test_size = 0.30, random_state = 0)\n",
    "print(X_train)\n",
    "\n",
    "\n"
   ]
  },
  {
   "cell_type": "code",
   "execution_count": 48,
   "metadata": {
    "collapsed": false
   },
   "outputs": [
    {
     "name": "stdout",
     "output_type": "stream",
     "text": [
      "Accuracy of Naive Bayes for Training Set is:  85.2978997\n",
      "Accuracy of Naive Bayes for Testing Set is:  84.6\n"
     ]
    }
   ],
   "source": [
    "#fitting Naive Bayes Algorithm\n",
    "from sklearn.naive_bayes import GaussianNB\n",
    "classifier_NB = GaussianNB()\n",
    "classifier_NB.fit(X_train, y_train)\n",
    "\n",
    "#Predicting the Test set results\n",
    "NB_predict = classifier_NB.predict(X_test)\n",
    "print('Accuracy of Naive Bayes for Training Set is: ',classifier_NB.score(X_train,y_train) *100)\n",
    "print('Accuracy of Naive Bayes for Testing Set is: ',classifier_NB.score(X_test,y_test) *100)\n",
    "\n"
   ]
  },
  {
   "cell_type": "markdown",
   "metadata": {},
   "source": [
    "***************************** Naive Bayes *********************************"
   ]
  },
  {
   "cell_type": "code",
   "execution_count": 49,
   "metadata": {
    "collapsed": false,
    "scrolled": true
   },
   "outputs": [
    {
     "name": "stdout",
     "output_type": "stream",
     "text": [
      "Naive Bayes\n",
      "[ 0.84730539  0.86526946  0.84131737  0.83183183  0.85585586  0.85285285\n",
      "  0.85885886  0.85885886  0.85585586  0.84684685]\n",
      "Accuracy of Naive Bayes is:  85.1485317653\n"
     ]
    }
   ],
   "source": [
    "# Evaluate using Cross-Validation of 10 folds\n",
    "from sklearn.model_selection import cross_val_score\n",
    "print(\"Naive Bayes\")\n",
    "print(cross_val_score(classifier_NB, X, y, scoring='accuracy', cv = 10))\n",
    "cv_accuracy_NB = cross_val_score(classifier_NB, X, y, scoring='accuracy', cv = 10).mean() * 100  #try without .mean()\n",
    "print(\"Accuracy of Naive Bayes is: \" , cv_accuracy_NB)"
   ]
  },
  {
   "cell_type": "code",
   "execution_count": 16,
   "metadata": {
    "collapsed": false
   },
   "outputs": [],
   "source": [
    "#print(y_test)\n",
    "#print(NB_predict)"
   ]
  },
  {
   "cell_type": "code",
   "execution_count": 50,
   "metadata": {
    "collapsed": false
   },
   "outputs": [
    {
     "name": "stdout",
     "output_type": "stream",
     "text": [
      "Naive Bayes : Confusion Matrix\n",
      "[[788  74]\n",
      " [ 80  58]]\n",
      "Confusion matrix plot of Naive Bayes\n"
     ]
    },
    {
     "data": {
      "image/png": "[encoded data removed]",
      "text/plain": [
       "<matplotlib.figure.Figure at 0x145ae4fb470>"
      ]
     },
     "metadata": {},
     "output_type": "display_data"
    },
    {
     "name": "stdout",
     "output_type": "stream",
     "text": [
      "Classification Report\n",
      "             precision    recall  f1-score   support\n",
      "\n",
      "          0       0.91      0.91      0.91       862\n",
      "          1       0.44      0.42      0.43       138\n",
      "\n",
      "avg / total       0.84      0.85      0.84      1000\n",
      "\n"
     ]
    }
   ],
   "source": [
    "from sklearn.metrics import classification_report \n",
    "from sklearn.metrics import confusion_matrix\n",
    "\n",
    "#Claculating and plotting the confusion Matrix\n",
    "cm_NB = confusion_matrix(y_test, NB_predict)\n",
    "print('Naive Bayes : Confusion Matrix')\n",
    "print(cm_NB)\n",
    "ax=plt.matshow(cm_NB,cmap=plt.cm.Reds)\n",
    "print('Confusion matrix plot of Naive Bayes')\n",
    "plt.colorbar(ax)\n",
    "plt.xlabel('Predicted')\n",
    "plt.ylabel('True')\n",
    "plt.show()\n",
    "\n",
    "#Classification report\n",
    "print('Classification Report')\n",
    "print(classification_report(y_test, NB_predict))"
   ]
  },
  {
   "cell_type": "markdown",
   "metadata": {},
   "source": [
    "****************************Deciison Tree**********************************"
   ]
  },
  {
   "cell_type": "code",
   "execution_count": 18,
   "metadata": {
    "collapsed": false
   },
   "outputs": [
    {
     "name": "stdout",
     "output_type": "stream",
     "text": [
      "Accuracy of Decision Tree for Training Set is:  100.0\n",
      "Accuracy of Decision Tree Machine for Testing Set is:  90.8\n"
     ]
    }
   ],
   "source": [
    "#fitting Decision Tree Algorithm\n",
    "from sklearn.tree import DecisionTreeClassifier \n",
    "classifier_DT = DecisionTreeClassifier(criterion = 'entropy', random_state =0) \n",
    "classifier_DT.fit(X_train, y_train)\n",
    "\n",
    "\n",
    "#Predicting the Test set results\n",
    "DT_predict = classifier_DT.predict(X_test)\n",
    "print('Accuracy of Decision Tree for Training Set is: ',classifier_DT.score(X_train,y_train) *100)\n",
    "print('Accuracy of Decision Tree Machine for Testing Set is: ',classifier_DT.score(X_test,y_test) *100)\n",
    "\n",
    "\n"
   ]
  },
  {
   "cell_type": "code",
   "execution_count": 19,
   "metadata": {
    "collapsed": true
   },
   "outputs": [],
   "source": [
    "#print(y_test)\n",
    "#print(SVM_predict)"
   ]
  },
  {
   "cell_type": "code",
   "execution_count": 20,
   "metadata": {
    "collapsed": false
   },
   "outputs": [
    {
     "name": "stdout",
     "output_type": "stream",
     "text": [
      "Decision Tree\n",
      "[ 0.91317365  0.93712575  0.90419162  0.91291291  0.94894895  0.92492492\n",
      "  0.90990991  0.93693694  0.90690691  0.93993994]\n",
      "Accuracy of Decision Tree is:  92.3497149844\n"
     ]
    }
   ],
   "source": [
    "# Evaluate using Cross-Validation of 10 folds\n",
    "from sklearn.model_selection import cross_val_score\n",
    "print(\"Decision Tree\")\n",
    "print(cross_val_score(classifier_DT, X, y, scoring='accuracy', cv = 10))\n",
    "cv_accuracy_DT = cross_val_score(classifier_DT, X, y, scoring='accuracy', cv = 10).mean() * 100  #try without .mean()\n",
    "print(\"Accuracy of Decision Tree is: \" , cv_accuracy_DT)"
   ]
  },
  {
   "cell_type": "code",
   "execution_count": 21,
   "metadata": {
    "collapsed": false,
    "scrolled": false
   },
   "outputs": [
    {
     "name": "stdout",
     "output_type": "stream",
     "text": [
      "Decision Tree : Confusion Matrix\n",
      "[[802  60]\n",
      " [ 32 106]]\n",
      "Confusion matrix plot of Decision tree\n"
     ]
    },
    {
     "data": {
      "image/png": "[encoded data removed]",
      "text/plain": [
       "<matplotlib.figure.Figure at 0x145acd63b70>"
      ]
     },
     "metadata": {},
     "output_type": "display_data"
    },
    {
     "name": "stdout",
     "output_type": "stream",
     "text": [
      "Classification Report\n",
      "             precision    recall  f1-score   support\n",
      "\n",
      "          0       0.96      0.93      0.95       862\n",
      "          1       0.64      0.77      0.70       138\n",
      "\n",
      "avg / total       0.92      0.91      0.91      1000\n",
      "\n"
     ]
    }
   ],
   "source": [
    "#Claculating and plotting the confusion Matrix\n",
    "cm_DT = confusion_matrix(y_test, DT_predict)\n",
    "print('Decision Tree : Confusion Matrix')\n",
    "print(cm_DT)\n",
    "ax=plt.matshow(cm_DT,cmap=plt.cm.Reds)\n",
    "print('Confusion matrix plot of Decision tree')\n",
    "plt.colorbar(ax)\n",
    "plt.xlabel('Predicted')\n",
    "plt.ylabel('True')\n",
    "plt.show()\n",
    "\n",
    "\n",
    "#Classification report\n",
    "print('Classification Report')\n",
    "print(classification_report(y_test, DT_predict))"
   ]
  },
  {
   "cell_type": "markdown",
   "metadata": {},
   "source": [
    "************************Logistic Regression******************************"
   ]
  },
  {
   "cell_type": "code",
   "execution_count": 33,
   "metadata": {
    "collapsed": false
   },
   "outputs": [
    {
     "name": "stdout",
     "output_type": "stream",
     "text": [
      "Accuracy of Logistic Regression for Training Set is:  85.5979425632\n",
      "Accuracy of Logistic Regression for Testing Set is:  87.0\n"
     ]
    }
   ],
   "source": [
    "#Fitting the logistic regression to the training set\n",
    "from sklearn.linear_model import LogisticRegression\n",
    "classifier_LR = LogisticRegression(random_state = 0)\n",
    "classifier_LR.fit(X_train, y_train)\n",
    "\n",
    "#Predicting the Test set results\n",
    "LR_predict = classifier_LR.predict(X_test)\n",
    "print('Accuracy of Logistic Regression for Training Set is: ',classifier_LR.score(X_train,y_train) *100)\n",
    "print('Accuracy of Logistic Regression for Testing Set is: ',classifier_LR.score(X_test,y_test) *100)\n",
    "\n",
    "\n",
    "    "
   ]
  },
  {
   "cell_type": "code",
   "execution_count": 34,
   "metadata": {
    "collapsed": false
   },
   "outputs": [
    {
     "name": "stdout",
     "output_type": "stream",
     "text": [
      "Logistic Regression\n",
      "[ 0.84730539  0.8742515   0.85928144  0.85285285  0.85285285  0.86186186\n",
      "  0.87387387  0.86486486  0.86186186  0.84984985]\n",
      "Accuracy of Logistic Regression is:  85.9885634137\n"
     ]
    }
   ],
   "source": [
    "# Evaluate using Cross-Validation of 10 folds\n",
    "from sklearn.model_selection import cross_val_score\n",
    "print(\"Logistic Regression\")\n",
    "print(cross_val_score(classifier_LR, X, y, scoring='accuracy', cv = 10))\n",
    "cv_accuracy_LR = cross_val_score(classifier_LR, X, y, scoring='accuracy', cv = 10).mean() * 100  #try without .mean()\n",
    "print(\"Accuracy of Logistic Regression is: \" , cv_accuracy_LR)"
   ]
  },
  {
   "cell_type": "code",
   "execution_count": 36,
   "metadata": {
    "collapsed": false
   },
   "outputs": [
    {
     "name": "stdout",
     "output_type": "stream",
     "text": [
      "Logistic Regression : Confusion Matrix\n",
      "[[846  16]\n",
      " [114  24]]\n",
      "Confusion matrix plot of Logistic Regression\n"
     ]
    },
    {
     "data": {
      "image/png": "[encoded data removed]",
      "text/plain": [
       "<matplotlib.figure.Figure at 0x145ae554c88>"
      ]
     },
     "metadata": {},
     "output_type": "display_data"
    },
    {
     "name": "stdout",
     "output_type": "stream",
     "text": [
      "Classification Report\n",
      "             precision    recall  f1-score   support\n",
      "\n",
      "          0       0.88      0.98      0.93       862\n",
      "          1       0.60      0.17      0.27       138\n",
      "\n",
      "avg / total       0.84      0.87      0.84      1000\n",
      "\n"
     ]
    }
   ],
   "source": [
    "#Claculating and plotting the confusion Matrix\n",
    "cm_LR = confusion_matrix(y_test, LR_predict)\n",
    "print('Logistic Regression : Confusion Matrix')\n",
    "print(cm_LR)\n",
    "ax=plt.matshow(cm_LR,cmap=plt.cm.Reds)\n",
    "print('Confusion matrix plot of Logistic Regression')\n",
    "plt.colorbar(ax)\n",
    "plt.xlabel('Predicted')\n",
    "plt.ylabel('True')\n",
    "plt.show()\n",
    "\n",
    "\n",
    "#Classification report\n",
    "print('Classification Report')\n",
    "print(classification_report(y_test, LR_predict))"
   ]
  },
  {
   "cell_type": "code",
   "execution_count": null,
   "metadata": {
    "collapsed": true
   },
   "outputs": [],
   "source": []
  }
 ],
 "metadata": {
  "kernelspec": {
   "display_name": "Python 3",
   "language": "python",
   "name": "python3"
  },
  "language_info": {
   "codemirror_mode": {
    "name": "ipython",
    "version": 3
   },
   "file_extension": ".py",
   "mimetype": "text/x-python",
   "name": "python",
   "nbconvert_exporter": "python",
   "pygments_lexer": "ipython3",
   "version": "3.6.0"
  }
 },
 "nbformat": 4,
 "nbformat_minor": 2
}
