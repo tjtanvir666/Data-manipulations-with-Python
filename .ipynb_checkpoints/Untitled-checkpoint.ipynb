{
 "cells": [
  {
   "cell_type": "code",
   "execution_count": 5,
   "metadata": {
    "collapsed": false
   },
   "outputs": [
    {
     "name": "stdout",
     "output_type": "stream",
     "text": [
      "\n",
      " 1 2 3 \n",
      " 4 5 6 \n",
      " 7 8 9 \n",
      "\n"
     ]
    }
   ],
   "source": [
    "import os\n",
    "li = [1,2,3,4,5,6,7,8,9]\n",
    "def display_board():\n",
    "    os.system('cls')\n",
    "    print(\"\\n\",li[0],li[1],li[2],\"\\n\",li[3],li[4],li[5],\"\\n\",li[6],li[7],li[8],\"\\n\")\n",
    "display_board()   "
   ]
  }
 ],
 "metadata": {
  "kernelspec": {
   "display_name": "Python 3",
   "language": "python",
   "name": "python3"
  },
  "language_info": {
   "codemirror_mode": {
    "name": "ipython",
    "version": 3
   },
   "file_extension": ".py",
   "mimetype": "text/x-python",
   "name": "python",
   "nbconvert_exporter": "python",
   "pygments_lexer": "ipython3",
   "version": "3.6.0"
  }
 },
 "nbformat": 4,
 "nbformat_minor": 2
}
