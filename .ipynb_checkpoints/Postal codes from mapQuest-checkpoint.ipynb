{
 "cells": [
  {
   "cell_type": "code",
   "execution_count": 4,
   "metadata": {
    "collapsed": true
   },
   "outputs": [],
   "source": [
    "import urllib.request\n",
    "import urllib, json\n",
    "import pandas as pd\n"
   ]
  },
  {
   "cell_type": "code",
   "execution_count": 14,
   "metadata": {
    "collapsed": false
   },
   "outputs": [
    {
     "name": "stdout",
     "output_type": "stream",
     "text": [
      "True\n"
     ]
    }
   ],
   "source": [
    "df   = pd.read_csv(r\"G:\\MovingWalls\\Facebook AD Reach.csv\")\n",
    "df\n",
    "lat  = df[\"LAT\"].values.tolist()\n",
    "long = df[\"LONG\"].values.tolist()\n",
    "print(lat.isnull().any())\n",
    "\n",
    "base-url = \"http://open.mapquestapi.com/geocoding/v1/reverse?\"\n",
    "payload = {\n",
    "            'key'            :  'LcCGTd4wAGrQzvVUt30GNrzCrAhwsJUw'\n",
    "            }\n"
   ]
  },
  {
   "cell_type": "code",
   "execution_count": null,
   "metadata": {
    "collapsed": true
   },
   "outputs": [],
   "source": []
  }
 ],
 "metadata": {
  "kernelspec": {
   "display_name": "Python 3",
   "language": "python",
   "name": "python3"
  },
  "language_info": {
   "codemirror_mode": {
    "name": "ipython",
    "version": 3
   },
   "file_extension": ".py",
   "mimetype": "text/x-python",
   "name": "python",
   "nbconvert_exporter": "python",
   "pygments_lexer": "ipython3",
   "version": "3.6.0"
  }
 },
 "nbformat": 4,
 "nbformat_minor": 2
}
