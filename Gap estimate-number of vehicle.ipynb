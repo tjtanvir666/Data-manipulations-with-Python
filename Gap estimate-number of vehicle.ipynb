{
 "cells": [
  {
   "cell_type": "code",
   "execution_count": 1,
   "metadata": {
    "collapsed": true
   },
   "outputs": [],
   "source": [
    "import numpy as np\n",
    "import pandas as pd\n",
    "import math"
   ]
  },
  {
   "cell_type": "code",
   "execution_count": 175,
   "metadata": {
    "collapsed": false
   },
   "outputs": [],
   "source": [
    "#city_name = input(\"City name: \")\n",
    "name = \"2018-05-08.csv\"\n",
    "df = pd.read_csv(r\"G:\\\\MovingWalls\\\\GAP ESTIMATION\\\\2.shell_traffic_20180611\\\\Jalan Ampang 10\\\\\" + name , parse_dates=['Date_Time'])"
   ]
  },
  {
   "cell_type": "code",
   "execution_count": 176,
   "metadata": {
    "collapsed": false
   },
   "outputs": [],
   "source": [
    "#df.head()"
   ]
  },
  {
   "cell_type": "markdown",
   "metadata": {},
   "source": [
    "#### difference  = real time Duration value - Average duration value"
   ]
  },
  {
   "cell_type": "code",
   "execution_count": 177,
   "metadata": {
    "collapsed": true
   },
   "outputs": [],
   "source": [
    "df[\"Distance_Value\"] = df[\"Distance_Value\"] *1000\n",
    "df[\"difference\"] = df[\"Duration_In_Traffic_Value\"] - df[\"Duration_Value\"]"
   ]
  },
  {
   "cell_type": "code",
   "execution_count": 178,
   "metadata": {
    "collapsed": false
   },
   "outputs": [],
   "source": [
    "#df.head()\n",
    "#df.tail()"
   ]
  },
  {
   "cell_type": "code",
   "execution_count": 179,
   "metadata": {
    "collapsed": false
   },
   "outputs": [],
   "source": [
    "   list = [];\n",
    "for val in df[\"difference\"].values:\n",
    "    if val <= -7:\n",
    "        #print(val)\n",
    "        list.append(5)\n",
    "    elif val >= -6 and val <= -5:\n",
    "        list.append(0.5)\n",
    "    elif val >= -4 and val <= -3:\n",
    "        list.append(0.3)\n",
    "    elif val >= -2 and val <= -1:\n",
    "        list.append(0.1)\n",
    "    elif val >= 0 and val <= 1:\n",
    "        list.append(0.09)\n",
    "    elif val >= 2 and val <= 3:\n",
    "        list.append(0.08)\n",
    "    elif val >= 4 and val <= 5:\n",
    "        list.append(0.07) \n",
    "    elif val >= 6 and val <= 7:\n",
    "        list.append(0.06) \n",
    "    elif val >= 8 and val <= 9:\n",
    "        list.append(0.05)  \n",
    "    elif val >= 10 and val <= 19:\n",
    "        list.append(0.04)   \n",
    "    elif val >= 20 and val <= 49:\n",
    "        list.append(0.03) \n",
    "    elif val >= 50 and val <= 79:\n",
    "        list.append(0.02)\n",
    "    elif val >= 80:\n",
    "        list.append(0.01)    \n",
    "    else:\n",
    "        list.append(\"not in range\")\n",
    "   \n",
    "\n",
    "#print(list)\n"
   ]
  },
  {
   "cell_type": "code",
   "execution_count": 180,
   "metadata": {
    "collapsed": false
   },
   "outputs": [],
   "source": [
    "#pd.DataFrame(np.array(corpus), columns=['text'])\n",
    "\n",
    "df[\"gap\"] = pd.DataFrame(np.array(list))"
   ]
  },
  {
   "cell_type": "code",
   "execution_count": 181,
   "metadata": {
    "collapsed": false
   },
   "outputs": [],
   "source": [
    "#df.head()"
   ]
  },
  {
   "cell_type": "markdown",
   "metadata": {},
   "source": [
    "#### no of cars per minute = [speed(per minute) / (gap estimation x 1000)] x 60\n",
    "\n",
    "#### speed = [road distance /(average time value + difference value)] x60"
   ]
  },
  {
   "cell_type": "code",
   "execution_count": 182,
   "metadata": {
    "collapsed": true
   },
   "outputs": [],
   "source": [
    "# finding out the speed first\n",
    "\n",
    "df[\"speed\"] = (df.Distance_Value /(df.Duration_Value + df.difference)) * 60"
   ]
  },
  {
   "cell_type": "code",
   "execution_count": 183,
   "metadata": {
    "collapsed": false
   },
   "outputs": [],
   "source": [
    "#df.head()"
   ]
  },
  {
   "cell_type": "code",
   "execution_count": 184,
   "metadata": {
    "collapsed": true
   },
   "outputs": [],
   "source": [
    "df[\"cars_per_minute\"] = (df.speed/(df.gap * 1000)) *60"
   ]
  },
  {
   "cell_type": "code",
   "execution_count": 185,
   "metadata": {
    "collapsed": false
   },
   "outputs": [],
   "source": [
    "#df.head()"
   ]
  },
  {
   "cell_type": "code",
   "execution_count": 186,
   "metadata": {
    "collapsed": true
   },
   "outputs": [],
   "source": [
    "df = df.rename(columns={'gap': 'gap_estimation', 'speed': 'speed_per_minute', 'cars_per_minute':'Cars_per_hour'})"
   ]
  },
  {
   "cell_type": "code",
   "execution_count": 187,
   "metadata": {
    "collapsed": false,
    "scrolled": true
   },
   "outputs": [],
   "source": [
    "#df.head()"
   ]
  },
  {
   "cell_type": "code",
   "execution_count": 188,
   "metadata": {
    "collapsed": false
   },
   "outputs": [],
   "source": [
    "#converting floats to int\n",
    "df['Cars_per_hour'] = df.Cars_per_hour.astype(int)"
   ]
  },
  {
   "cell_type": "code",
   "execution_count": 189,
   "metadata": {
    "collapsed": false
   },
   "outputs": [],
   "source": [
    "#df.head()"
   ]
  },
  {
   "cell_type": "code",
   "execution_count": 190,
   "metadata": {
    "collapsed": false
   },
   "outputs": [
    {
     "data": {
      "text/html": [
       "<div>\n",
       "<style>\n",
       "    .dataframe thead tr:only-child th {\n",
       "        text-align: right;\n",
       "    }\n",
       "\n",
       "    .dataframe thead th {\n",
       "        text-align: left;\n",
       "    }\n",
       "\n",
       "    .dataframe tbody tr th {\n",
       "        vertical-align: top;\n",
       "    }\n",
       "</style>\n",
       "<table border=\"1\" class=\"dataframe\">\n",
       "  <thead>\n",
       "    <tr style=\"text-align: right;\">\n",
       "      <th></th>\n",
       "      <th>Date_Time</th>\n",
       "      <th>Cars_per_hour</th>\n",
       "    </tr>\n",
       "  </thead>\n",
       "  <tbody>\n",
       "    <tr>\n",
       "      <th>0</th>\n",
       "      <td>2018-05-08 00:02:11</td>\n",
       "      <td>8</td>\n",
       "    </tr>\n",
       "    <tr>\n",
       "      <th>1</th>\n",
       "      <td>2018-05-08 01:00:46</td>\n",
       "      <td>8</td>\n",
       "    </tr>\n",
       "    <tr>\n",
       "      <th>2</th>\n",
       "      <td>2018-05-08 02:00:45</td>\n",
       "      <td>8</td>\n",
       "    </tr>\n",
       "    <tr>\n",
       "      <th>3</th>\n",
       "      <td>2018-05-08 03:00:43</td>\n",
       "      <td>9</td>\n",
       "    </tr>\n",
       "    <tr>\n",
       "      <th>4</th>\n",
       "      <td>2018-05-08 04:00:34</td>\n",
       "      <td>9</td>\n",
       "    </tr>\n",
       "  </tbody>\n",
       "</table>\n",
       "</div>"
      ],
      "text/plain": [
       "            Date_Time  Cars_per_hour\n",
       "0 2018-05-08 00:02:11              8\n",
       "1 2018-05-08 01:00:46              8\n",
       "2 2018-05-08 02:00:45              8\n",
       "3 2018-05-08 03:00:43              9\n",
       "4 2018-05-08 04:00:34              9"
      ]
     },
     "execution_count": 190,
     "metadata": {},
     "output_type": "execute_result"
    }
   ],
   "source": [
    "#separating the columns\n",
    "final = df.loc[ : , [\"Date_Time\",\"Cars_per_hour\"]]\n",
    "final.head()"
   ]
  },
  {
   "cell_type": "code",
   "execution_count": 191,
   "metadata": {
    "collapsed": false
   },
   "outputs": [],
   "source": [
    "path = r\"G:\\\\MovingWalls\\\\GAP ESTIMATION\\\\2.shell_traffic_20180611\\\\Result\\\\jalan ampang 10\\\\\"\n",
    "final.to_csv(path + name , index = None)"
   ]
  },
  {
   "cell_type": "code",
   "execution_count": null,
   "metadata": {
    "collapsed": true
   },
   "outputs": [],
   "source": []
  },
  {
   "cell_type": "markdown",
   "metadata": {
    "collapsed": true
   },
   "source": [
    "### Filtering singapore data"
   ]
  },
  {
   "cell_type": "code",
   "execution_count": 42,
   "metadata": {
    "collapsed": false
   },
   "outputs": [
    {
     "data": {
      "text/html": [
       "<div>\n",
       "<style>\n",
       "    .dataframe thead tr:only-child th {\n",
       "        text-align: right;\n",
       "    }\n",
       "\n",
       "    .dataframe thead th {\n",
       "        text-align: left;\n",
       "    }\n",
       "\n",
       "    .dataframe tbody tr th {\n",
       "        vertical-align: top;\n",
       "    }\n",
       "</style>\n",
       "<table border=\"1\" class=\"dataframe\">\n",
       "  <thead>\n",
       "    <tr style=\"text-align: right;\">\n",
       "      <th></th>\n",
       "      <th>Name</th>\n",
       "      <th>Display Name</th>\n",
       "      <th>Ref ID</th>\n",
       "      <th>Media Operator</th>\n",
       "      <th>Facing Direction</th>\n",
       "      <th>Category</th>\n",
       "      <th>Format</th>\n",
       "      <th>Group</th>\n",
       "      <th>Type</th>\n",
       "      <th>Market Segment</th>\n",
       "      <th>...</th>\n",
       "      <th>Video Support</th>\n",
       "      <th>Image Support</th>\n",
       "      <th>Audio Support</th>\n",
       "      <th>Content Approval</th>\n",
       "      <th>Feature Support</th>\n",
       "      <th>Available Hours</th>\n",
       "      <th>Lead Time (in days)</th>\n",
       "      <th>Any Exclusion</th>\n",
       "      <th>Address</th>\n",
       "      <th>MI Stage</th>\n",
       "    </tr>\n",
       "  </thead>\n",
       "  <tbody>\n",
       "    <tr>\n",
       "      <th>0</th>\n",
       "      <td>Grand Indonesia</td>\n",
       "      <td>Grand Indonesia</td>\n",
       "      <td>NaN</td>\n",
       "      <td>Movingwalls Sdn Bhd</td>\n",
       "      <td>SOUTH</td>\n",
       "      <td>INDOOR</td>\n",
       "      <td>NaN</td>\n",
       "      <td>WORK</td>\n",
       "      <td>DIGITAL</td>\n",
       "      <td>NaN</td>\n",
       "      <td>...</td>\n",
       "      <td>NaN</td>\n",
       "      <td>NaN</td>\n",
       "      <td>NaN</td>\n",
       "      <td>NaN</td>\n",
       "      <td>NaN</td>\n",
       "      <td>NaN</td>\n",
       "      <td>NaN</td>\n",
       "      <td>NaN</td>\n",
       "      <td>Jl. Kebon Kacang Raya No.55, Kb. Melati, Tanah...</td>\n",
       "      <td>New</td>\n",
       "    </tr>\n",
       "    <tr>\n",
       "      <th>1</th>\n",
       "      <td>DTCP05789-P</td>\n",
       "      <td>DTCP05789-P</td>\n",
       "      <td>TH-THR-10120-D-0001</td>\n",
       "      <td>ThreeSixtyFive Public Company Limited</td>\n",
       "      <td>NORTH-WEST</td>\n",
       "      <td>INDOOR</td>\n",
       "      <td>NaN</td>\n",
       "      <td>SHOP</td>\n",
       "      <td>DIGITAL-NETWORK</td>\n",
       "      <td>SHOPPERS</td>\n",
       "      <td>...</td>\n",
       "      <td>NaN</td>\n",
       "      <td>NaN</td>\n",
       "      <td>NaN</td>\n",
       "      <td>NaN</td>\n",
       "      <td>NaN</td>\n",
       "      <td>NaN</td>\n",
       "      <td>NaN</td>\n",
       "      <td>NaN</td>\n",
       "      <td>Soi Charoen Krung 74, Lane 1, Khwaeng Wat Phra...</td>\n",
       "      <td>Stable</td>\n",
       "    </tr>\n",
       "    <tr>\n",
       "      <th>2</th>\n",
       "      <td>WOW Subang SS15</td>\n",
       "      <td>WOW Subang SS15</td>\n",
       "      <td>MY-WOW-47500-D-0037</td>\n",
       "      <td>WOW OUTDOOR SDN BHD</td>\n",
       "      <td>NORTH</td>\n",
       "      <td>OUTDOOR</td>\n",
       "      <td>LARGE</td>\n",
       "      <td>PLAY</td>\n",
       "      <td>DIGITAL</td>\n",
       "      <td>COLLEGE,BUSINESS-OWNERS,FOOD-LOVERS,STUDENTS,PMEB</td>\n",
       "      <td>...</td>\n",
       "      <td>mp4</td>\n",
       "      <td>jpg</td>\n",
       "      <td>NaN</td>\n",
       "      <td>NO</td>\n",
       "      <td>VIDEO</td>\n",
       "      <td>NaN</td>\n",
       "      <td>0.0</td>\n",
       "      <td>NaN</td>\n",
       "      <td>47500, Jalan SS 15/8, Ss 15, 47500 Subang Jaya...</td>\n",
       "      <td>New</td>\n",
       "    </tr>\n",
       "    <tr>\n",
       "      <th>3</th>\n",
       "      <td>Media Uno</td>\n",
       "      <td>Media Uno</td>\n",
       "      <td>MY-MED-47800-D-0025</td>\n",
       "      <td>Media Uno Sdn Bhd</td>\n",
       "      <td>NORTH-EAST</td>\n",
       "      <td>OUTDOOR</td>\n",
       "      <td>NaN</td>\n",
       "      <td>WORK</td>\n",
       "      <td>DIGITAL</td>\n",
       "      <td>NaN</td>\n",
       "      <td>...</td>\n",
       "      <td>NaN</td>\n",
       "      <td>NaN</td>\n",
       "      <td>NaN</td>\n",
       "      <td>NaN</td>\n",
       "      <td>NaN</td>\n",
       "      <td>NaN</td>\n",
       "      <td>NaN</td>\n",
       "      <td>NaN</td>\n",
       "      <td>1 Utama Shopping Centre, 1, Lebuh Bandar Utama...</td>\n",
       "      <td>Gold</td>\n",
       "    </tr>\n",
       "    <tr>\n",
       "      <th>4</th>\n",
       "      <td>WOW Taman Sri Rampai</td>\n",
       "      <td>WOW Taman Sri Rampai</td>\n",
       "      <td>MY-WOW-53300-D-0036</td>\n",
       "      <td>WOW OUTDOOR SDN BHD</td>\n",
       "      <td>EAST</td>\n",
       "      <td>OUTDOOR</td>\n",
       "      <td>LARGE</td>\n",
       "      <td>WORK</td>\n",
       "      <td>DIGITAL</td>\n",
       "      <td>NaN</td>\n",
       "      <td>...</td>\n",
       "      <td>NaN</td>\n",
       "      <td>NaN</td>\n",
       "      <td>NaN</td>\n",
       "      <td>NO</td>\n",
       "      <td>NaN</td>\n",
       "      <td>NaN</td>\n",
       "      <td>0.0</td>\n",
       "      <td>NaN</td>\n",
       "      <td>Jalan 1/26, Taman Sri Rampai, 53300 Kuala Lump...</td>\n",
       "      <td>New</td>\n",
       "    </tr>\n",
       "  </tbody>\n",
       "</table>\n",
       "<p>5 rows × 42 columns</p>\n",
       "</div>"
      ],
      "text/plain": [
       "                   Name          Display Name               Ref ID  \\\n",
       "0      Grand Indonesia       Grand Indonesia                   NaN   \n",
       "1           DTCP05789-P           DTCP05789-P  TH-THR-10120-D-0001   \n",
       "2       WOW Subang SS15       WOW Subang SS15  MY-WOW-47500-D-0037   \n",
       "3             Media Uno             Media Uno  MY-MED-47800-D-0025   \n",
       "4  WOW Taman Sri Rampai  WOW Taman Sri Rampai  MY-WOW-53300-D-0036   \n",
       "\n",
       "                          Media Operator Facing Direction Category Format  \\\n",
       "0                    Movingwalls Sdn Bhd            SOUTH   INDOOR    NaN   \n",
       "1  ThreeSixtyFive Public Company Limited       NORTH-WEST   INDOOR    NaN   \n",
       "2                    WOW OUTDOOR SDN BHD            NORTH  OUTDOOR  LARGE   \n",
       "3                      Media Uno Sdn Bhd       NORTH-EAST  OUTDOOR    NaN   \n",
       "4                    WOW OUTDOOR SDN BHD             EAST  OUTDOOR  LARGE   \n",
       "\n",
       "  Group             Type                                     Market Segment  \\\n",
       "0  WORK          DIGITAL                                                NaN   \n",
       "1  SHOP  DIGITAL-NETWORK                                           SHOPPERS   \n",
       "2  PLAY          DIGITAL  COLLEGE,BUSINESS-OWNERS,FOOD-LOVERS,STUDENTS,PMEB   \n",
       "3  WORK          DIGITAL                                                NaN   \n",
       "4  WORK          DIGITAL                                                NaN   \n",
       "\n",
       "     ...     Video Support  Image Support Audio Support Content Approval  \\\n",
       "0    ...               NaN            NaN           NaN              NaN   \n",
       "1    ...               NaN            NaN           NaN              NaN   \n",
       "2    ...               mp4            jpg           NaN               NO   \n",
       "3    ...               NaN            NaN           NaN              NaN   \n",
       "4    ...               NaN            NaN           NaN               NO   \n",
       "\n",
       "  Feature Support Available Hours Lead Time (in days) Any Exclusion  \\\n",
       "0             NaN             NaN                 NaN           NaN   \n",
       "1             NaN             NaN                 NaN           NaN   \n",
       "2           VIDEO             NaN                 0.0           NaN   \n",
       "3             NaN             NaN                 NaN           NaN   \n",
       "4             NaN             NaN                 0.0           NaN   \n",
       "\n",
       "                                             Address  MI Stage  \n",
       "0  Jl. Kebon Kacang Raya No.55, Kb. Melati, Tanah...       New  \n",
       "1  Soi Charoen Krung 74, Lane 1, Khwaeng Wat Phra...    Stable  \n",
       "2  47500, Jalan SS 15/8, Ss 15, 47500 Subang Jaya...       New  \n",
       "3  1 Utama Shopping Centre, 1, Lebuh Bandar Utama...      Gold  \n",
       "4  Jalan 1/26, Taman Sri Rampai, 53300 Kuala Lump...       New  \n",
       "\n",
       "[5 rows x 42 columns]"
      ]
     },
     "execution_count": 42,
     "metadata": {},
     "output_type": "execute_result"
    }
   ],
   "source": [
    "sing = pd.read_csv(r'G:\\MovingWalls\\singapore.csv')\n",
    "sing.head()\n",
    "\n"
   ]
  },
  {
   "cell_type": "code",
   "execution_count": null,
   "metadata": {
    "collapsed": true
   },
   "outputs": [],
   "source": [
    "big = sing[sing[\"Country\"]==\"Singapore\"]\n",
    "big.head()\n",
    "big = big.reset_index(drop= true)\n",
    "big.head()"
   ]
  }
 ],
 "metadata": {
  "kernelspec": {
   "display_name": "Python 3",
   "language": "python",
   "name": "python3"
  },
  "language_info": {
   "codemirror_mode": {
    "name": "ipython",
    "version": 3
   },
   "file_extension": ".py",
   "mimetype": "text/x-python",
   "name": "python",
   "nbconvert_exporter": "python",
   "pygments_lexer": "ipython3",
   "version": "3.6.0"
  }
 },
 "nbformat": 4,
 "nbformat_minor": 2
}
