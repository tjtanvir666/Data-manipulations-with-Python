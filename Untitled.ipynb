{
 "cells": [
  {
   "cell_type": "code",
   "execution_count": null,
   "metadata": {
    "collapsed": false,
    "scrolled": true
   },
   "outputs": [],
   "source": [
    "from IPython.display import clear_output\n",
    "def display_board(board):\n",
    "    os.system('cls')\n",
    "    print(\"   |   |\")\n",
    "    print(\" \" + board[7] + \" | \" + board[8] + \" | \" + board[9] )\n",
    "    print(\"   |   |\")\n",
    "    print(\"------------\")\n",
    "    print(\"   |   |\")\n",
    "    print(\" \" + board[4] + \" | \" + board[5] + \" | \" + board[6])\n",
    "    print(\"   |   |\")\n",
    "    print(\"------------\")\n",
    "    print(\"   |   |\")\n",
    "    print(\" \" + board[1] + \" | \" + board[2] + \" | \" + board[3])\n",
    "    print(\"   |   |\")\n",
    "    \n",
    "    board = [\"ignore 0 index\",'x','x','x','o','o','o','x','x','x']\n",
    "display_board(board)"
   ]
  },
  {
   "cell_type": "code",
   "execution_count": null,
   "metadata": {
    "collapsed": true
   },
   "outputs": [],
   "source": [
    "board = [\"ignore 0 index\",'x','x','x','o','o','o','x','x','x']\n",
    "display_board(board)"
   ]
  }
 ],
 "metadata": {
  "kernelspec": {
   "display_name": "Python 3",
   "language": "python",
   "name": "python3"
  },
  "language_info": {
   "codemirror_mode": {
    "name": "ipython",
    "version": 3
   },
   "file_extension": ".py",
   "mimetype": "text/x-python",
   "name": "python",
   "nbconvert_exporter": "python",
   "pygments_lexer": "ipython3",
   "version": "3.6.0"
  }
 },
 "nbformat": 4,
 "nbformat_minor": 2
}
